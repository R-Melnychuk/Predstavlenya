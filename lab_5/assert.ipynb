{
 "cells": [
  {
   "cell_type": "markdown",
   "metadata": {},
   "source": [
    "Перевірка assert"
   ]
  },
  {
   "cell_type": "code",
   "execution_count": 1,
   "metadata": {},
   "outputs": [
    {
     "ename": "AssertionError",
     "evalue": "число має бути більшим за нуль!",
     "output_type": "error",
     "traceback": [
      "\u001b[1;31m---------------------------------------------------------------------------\u001b[0m",
      "\u001b[1;31mAssertionError\u001b[0m                            Traceback (most recent call last)",
      "Cell \u001b[1;32mIn [1], line 2\u001b[0m\n\u001b[0;32m      1\u001b[0m number \u001b[38;5;241m=\u001b[39m \u001b[38;5;241m-\u001b[39m\u001b[38;5;241m1\u001b[39m\n\u001b[1;32m----> 2\u001b[0m \u001b[38;5;28;01massert\u001b[39;00m number \u001b[38;5;241m>\u001b[39m \u001b[38;5;241m0\u001b[39m, \u001b[38;5;124m\"\u001b[39m\u001b[38;5;124mчисло має бути більшим за нуль!\u001b[39m\u001b[38;5;124m\"\u001b[39m\n",
      "\u001b[1;31mAssertionError\u001b[0m: число має бути більшим за нуль!"
     ]
    }
   ],
   "source": [
    "number = -1\n",
    "assert number > 0, \"число має бути більшим за нуль!\""
   ]
  },
  {
   "cell_type": "code",
   "execution_count": 3,
   "metadata": {},
   "outputs": [
    {
     "name": "stdout",
     "output_type": "stream",
     "text": [
      "введене число: 12\n"
     ]
    }
   ],
   "source": [
    "a = input(\"Введіть число: \")\n",
    "assert a.isdigit(), \"Потрібно ввести число!\"\n",
    "print(f\"введене число: {a}\")"
   ]
  },
  {
   "cell_type": "code",
   "execution_count": 1,
   "metadata": {},
   "outputs": [
    {
     "ename": "AssertionError",
     "evalue": "Потрібно ввести число!",
     "output_type": "error",
     "traceback": [
      "\u001b[1;31m---------------------------------------------------------------------------\u001b[0m",
      "\u001b[1;31mAssertionError\u001b[0m                            Traceback (most recent call last)",
      "Cell \u001b[1;32mIn [1], line 2\u001b[0m\n\u001b[0;32m      1\u001b[0m a \u001b[38;5;241m=\u001b[39m \u001b[38;5;28minput\u001b[39m(\u001b[38;5;124m\"\u001b[39m\u001b[38;5;124mВведіть число: \u001b[39m\u001b[38;5;124m\"\u001b[39m)\n\u001b[1;32m----> 2\u001b[0m \u001b[38;5;28;01massert\u001b[39;00m a\u001b[38;5;241m.\u001b[39misdigit(), \u001b[38;5;124m\"\u001b[39m\u001b[38;5;124mПотрібно ввести число!\u001b[39m\u001b[38;5;124m\"\u001b[39m\n\u001b[0;32m      3\u001b[0m \u001b[38;5;28mprint\u001b[39m(\u001b[38;5;124mf\u001b[39m\u001b[38;5;124m\"\u001b[39m\u001b[38;5;124mвведене число: \u001b[39m\u001b[38;5;132;01m{\u001b[39;00ma\u001b[38;5;132;01m}\u001b[39;00m\u001b[38;5;124m\"\u001b[39m)\n",
      "\u001b[1;31mAssertionError\u001b[0m: Потрібно ввести число!"
     ]
    }
   ],
   "source": [
    "a = input(\"Введіть число: \")\n",
    "assert a.isdigit(), \"Потрібно ввести число!\"\n",
    "print(f\"введене число: {a}\")"
   ]
  },
  {
   "cell_type": "code",
   "execution_count": 2,
   "metadata": {},
   "outputs": [],
   "source": [
    "class Figure:\n",
    "    def __init__(self, type, length) -> None:\n",
    "        assert length > 0, \"Довжина має бути більшою за 0!\"\n",
    "        assert type in [\"квадрат\", \"прямокутник\", \"трикутник\"], \"Дозволені фігури: квадрат, прямокутник, трикутник\"\n",
    "        self.type = type\n",
    "        self.length = length\n",
    "\n",
    "#a = Figure(\"трапеція\", 12)\n",
    "#b = Figure(\"квадрат\", 0)\n",
    "c = Figure(\"квадрат\", 1)"
   ]
  },
  {
   "cell_type": "code",
   "execution_count": 3,
   "metadata": {},
   "outputs": [
    {
     "name": "stdout",
     "output_type": "stream",
     "text": [
      "квадрат 12\n",
      "трикутник 6\n",
      "прямокутник 1\n"
     ]
    }
   ],
   "source": [
    "class Figure:\n",
    "        def __init__(self, type, length) -> None:\n",
    "            assert length > 0, \"Довжина має бути більшою за 0!\"\n",
    "            assert type in [\"квадрат\", \"прямокутник\", \"трикутник\"], \"Дозволені фігури: квадрат, прямокутник, трикутник\"\n",
    "            self.type = type\n",
    "            self.length = length\n",
    "\n",
    "a = Figure(\"квадрат\", 12)\n",
    "print(a.type, a.length)\n",
    "b = Figure(\"трикутник\", 6)\n",
    "print(b.type, b.length)\n",
    "c = Figure(\"прямокутник\", 1)\n",
    "print(c.type, c.length)"
   ]
  },
  {
   "cell_type": "code",
   "execution_count": 8,
   "metadata": {},
   "outputs": [
    {
     "name": "stdout",
     "output_type": "stream",
     "text": [
      "Роман Хоббі\n"
     ]
    },
    {
     "ename": "ValueError",
     "evalue": "Поле хоббі пусте",
     "output_type": "error",
     "traceback": [
      "\u001b[1;31m---------------------------------------------------------------------------\u001b[0m",
      "\u001b[1;31mValueError\u001b[0m                                Traceback (most recent call last)",
      "Cell \u001b[1;32mIn [8], line 12\u001b[0m\n\u001b[0;32m     10\u001b[0m a \u001b[38;5;241m=\u001b[39m Name(\u001b[38;5;124m\"\u001b[39m\u001b[38;5;124mРоман\u001b[39m\u001b[38;5;124m\"\u001b[39m, \u001b[38;5;124m\"\u001b[39m\u001b[38;5;124mХоббі\u001b[39m\u001b[38;5;124m\"\u001b[39m)\n\u001b[0;32m     11\u001b[0m \u001b[38;5;28mprint\u001b[39m(a\u001b[38;5;241m.\u001b[39mname, a\u001b[38;5;241m.\u001b[39mhobby)\n\u001b[1;32m---> 12\u001b[0m b \u001b[38;5;241m=\u001b[39m \u001b[43mName\u001b[49m\u001b[43m(\u001b[49m\u001b[38;5;124;43m\"\u001b[39;49m\u001b[38;5;124;43mРоман\u001b[39;49m\u001b[38;5;124;43m\"\u001b[39;49m\u001b[43m,\u001b[49m\u001b[43m \u001b[49m\u001b[38;5;124;43m\"\u001b[39;49m\u001b[38;5;124;43m\"\u001b[39;49m\u001b[43m)\u001b[49m\n\u001b[0;32m     13\u001b[0m \u001b[38;5;28mprint\u001b[39m(b\u001b[38;5;241m.\u001b[39mname, b\u001b[38;5;241m.\u001b[39mhobby)\n",
      "Cell \u001b[1;32mIn [8], line 6\u001b[0m, in \u001b[0;36mName.__init__\u001b[1;34m(self, name, hobby)\u001b[0m\n\u001b[0;32m      4\u001b[0m     \u001b[38;5;28;01mraise\u001b[39;00m \u001b[38;5;167;01mValueError\u001b[39;00m(\u001b[38;5;124m\"\u001b[39m\u001b[38;5;124mДозволені імена: Роман, Анонім\u001b[39m\u001b[38;5;124m\"\u001b[39m)\n\u001b[0;32m      5\u001b[0m \u001b[38;5;28;01mif\u001b[39;00m \u001b[38;5;129;01mnot\u001b[39;00m hobby:\n\u001b[1;32m----> 6\u001b[0m     \u001b[38;5;28;01mraise\u001b[39;00m \u001b[38;5;167;01mValueError\u001b[39;00m(\u001b[38;5;124m\"\u001b[39m\u001b[38;5;124mПоле хоббі пусте\u001b[39m\u001b[38;5;124m\"\u001b[39m)\n\u001b[0;32m      8\u001b[0m \u001b[38;5;28mself\u001b[39m\u001b[38;5;241m.\u001b[39mname \u001b[38;5;241m=\u001b[39m name\n\u001b[0;32m      9\u001b[0m \u001b[38;5;28mself\u001b[39m\u001b[38;5;241m.\u001b[39mhobby \u001b[38;5;241m=\u001b[39m hobby\n",
      "\u001b[1;31mValueError\u001b[0m: Поле хоббі пусте"
     ]
    }
   ],
   "source": [
    "class Name:\n",
    "    def __init__(self, name:str, hobby) -> None:\n",
    "        if name not in [\"Роман\", \"Анонім\"]:\n",
    "            raise ValueError(\"Дозволені імена: Роман, Анонім\")\n",
    "        if not hobby:\n",
    "            raise ValueError(\"Поле хоббі пусте\")\n",
    "        \n",
    "        self.name = name\n",
    "        self.hobby = hobby\n",
    "a = Name(\"Роман\", \"Хоббі\")\n",
    "print(a.name, a.hobby)\n",
    "b = Name(\"Роман\", \"\")\n",
    "print(b.name, b.hobby)"
   ]
  }
 ],
 "metadata": {
  "kernelspec": {
   "display_name": "Python 3.10.5 ('lab_4-IJv9jc82')",
   "language": "python",
   "name": "python3"
  },
  "language_info": {
   "codemirror_mode": {
    "name": "ipython",
    "version": 3
   },
   "file_extension": ".py",
   "mimetype": "text/x-python",
   "name": "python",
   "nbconvert_exporter": "python",
   "pygments_lexer": "ipython3",
   "version": "3.10.5"
  },
  "orig_nbformat": 4,
  "vscode": {
   "interpreter": {
    "hash": "8ce55b6b9adf8d9b7beefc6de5ac0a366db06e2650673234b2615beed82f7b92"
   }
  }
 },
 "nbformat": 4,
 "nbformat_minor": 2
}
