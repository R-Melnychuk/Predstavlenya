{
 "cells": [
  {
   "cell_type": "code",
   "execution_count": 3,
   "metadata": {},
   "outputs": [
    {
     "name": "stdout",
     "output_type": "stream",
     "text": [
      "Roman start programming at 2022-09-01 08:33:47.748455\n"
     ]
    }
   ],
   "source": [
    "from datetime import datetime\n",
    "name = \"Roman\"\n",
    "\n",
    "print(f\"{name} start programming at {datetime.now()}\")"
   ]
  },
  {
   "cell_type": "markdown",
   "metadata": {},
   "source": [
    "Моя перша програма"
   ]
  }
 ],
 "metadata": {
  "kernelspec": {
   "display_name": "Python 3.10.5 64-bit",
   "language": "python",
   "name": "python3"
  },
  "language_info": {
   "codemirror_mode": {
    "name": "ipython",
    "version": 3
   },
   "file_extension": ".py",
   "mimetype": "text/x-python",
   "name": "python",
   "nbconvert_exporter": "python",
   "pygments_lexer": "ipython3",
   "version": "3.10.5"
  },
  "orig_nbformat": 4,
  "vscode": {
   "interpreter": {
    "hash": "12feb00aabd2b1ca3f7328dd66d13acf0a23d6b7a59343a8e33d578f5b6e8f8d"
   }
  }
 },
 "nbformat": 4,
 "nbformat_minor": 2
}
